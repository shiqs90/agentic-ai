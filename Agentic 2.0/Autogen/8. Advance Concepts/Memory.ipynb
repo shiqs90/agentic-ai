{
 "cells": [
  {
   "cell_type": "code",
   "execution_count": 1,
   "id": "9de74c22",
   "metadata": {},
   "outputs": [],
   "source": [
    "from autogen_agentchat.agents import AssistantAgent\n",
    "from autogen_agentchat.ui import Console\n",
    "from autogen_core.memory import ListMemory, MemoryContent, MemoryMimeType\n",
    "from autogen_ext.models.openai import OpenAIChatCompletionClient\n"
   ]
  },
  {
   "cell_type": "code",
   "execution_count": 2,
   "id": "5d783f20",
   "metadata": {},
   "outputs": [],
   "source": [
    "userMemory = ListMemory()"
   ]
  },
  {
   "cell_type": "code",
   "execution_count": null,
   "id": "bc6e925b",
   "metadata": {},
   "outputs": [],
   "source": [
    "api_key =None"
   ]
  },
  {
   "cell_type": "code",
   "execution_count": 11,
   "id": "cd558102",
   "metadata": {},
   "outputs": [],
   "source": [
    "await userMemory.add(MemoryContent(\n",
    "    content='The weather unit should be degree celsius ( metric)',\n",
    "    mime_type=MemoryMimeType.TEXT\n",
    "))\n",
    "\n",
    "await userMemory.add(MemoryContent(\n",
    "    content='The User is Vegetarian',\n",
    "    mime_type=MemoryMimeType.TEXT\n",
    "))\n",
    "\n"
   ]
  },
  {
   "cell_type": "code",
   "execution_count": 12,
   "id": "69e84d30",
   "metadata": {},
   "outputs": [],
   "source": [
    "async def get_weather(city: str, units: str = \"imperial\") -> str:\n",
    "    if units == \"imperial\":\n",
    "        return f\"The weather in {city} is 73 °F and Sunny.\"\n",
    "    elif units == \"metric\":\n",
    "        return f\"The weather in {city} is 23 °C and Sunny.\"\n",
    "    else:\n",
    "        return f\"Sorry, I don't know the weather in {city}.\"\n"
   ]
  },
  {
   "cell_type": "code",
   "execution_count": 13,
   "id": "95f10ba8",
   "metadata": {},
   "outputs": [],
   "source": [
    "assistant_agent = AssistantAgent(\n",
    "    'weather_assistant',\n",
    "    model_client=OpenAIChatCompletionClient(model='gpt-4o',api_key=api_key),\n",
    "    tools=[get_weather],\n",
    "    memory=[userMemory]\n",
    ")"
   ]
  },
  {
   "cell_type": "code",
   "execution_count": 9,
   "id": "07ac89a3",
   "metadata": {},
   "outputs": [
    {
     "name": "stdout",
     "output_type": "stream",
     "text": [
      "---------- TextMessage (user) ----------\n",
      "What is the weather in Delhi ?\n",
      "---------- MemoryQueryEvent (weather_assistant) ----------\n",
      "[MemoryContent(content='The weather unit should be degree celsius ( metric)', mime_type=<MemoryMimeType.TEXT: 'text/plain'>, metadata=None)]\n",
      "---------- ToolCallRequestEvent (weather_assistant) ----------\n",
      "[FunctionCall(id='call_xlEPodf9Y5X9MkQjDrDqu9ct', arguments='{\"city\":\"Delhi\",\"units\":\"metric\"}', name='get_weather')]\n",
      "---------- ToolCallExecutionEvent (weather_assistant) ----------\n",
      "[FunctionExecutionResult(content='The weather in Delhi is 23 °C and Sunny.', name='get_weather', call_id='call_xlEPodf9Y5X9MkQjDrDqu9ct', is_error=False)]\n",
      "---------- ToolCallSummaryMessage (weather_assistant) ----------\n",
      "The weather in Delhi is 23 °C and Sunny.\n"
     ]
    },
    {
     "data": {
      "text/plain": [
       "TaskResult(messages=[TextMessage(id='040a596c-c402-400c-a34b-fcaf8975972e', source='user', models_usage=None, metadata={}, created_at=datetime.datetime(2025, 7, 27, 4, 53, 16, 80599, tzinfo=datetime.timezone.utc), content='What is the weather in Delhi ?', type='TextMessage'), MemoryQueryEvent(id='d09f6e3e-d707-447a-9290-15b5c7e27711', source='weather_assistant', models_usage=None, metadata={}, created_at=datetime.datetime(2025, 7, 27, 4, 53, 16, 86863, tzinfo=datetime.timezone.utc), content=[MemoryContent(content='The weather unit should be degree celsius ( metric)', mime_type=<MemoryMimeType.TEXT: 'text/plain'>, metadata=None)], type='MemoryQueryEvent'), ToolCallRequestEvent(id='ddb27681-9280-4d60-a581-f9c977262fa1', source='weather_assistant', models_usage=RequestUsage(prompt_tokens=117, completion_tokens=18), metadata={}, created_at=datetime.datetime(2025, 7, 27, 4, 53, 17, 319885, tzinfo=datetime.timezone.utc), content=[FunctionCall(id='call_xlEPodf9Y5X9MkQjDrDqu9ct', arguments='{\"city\":\"Delhi\",\"units\":\"metric\"}', name='get_weather')], type='ToolCallRequestEvent'), ToolCallExecutionEvent(id='d9ddf2b4-bc14-4e48-a990-3368d97a3931', source='weather_assistant', models_usage=None, metadata={}, created_at=datetime.datetime(2025, 7, 27, 4, 53, 17, 322670, tzinfo=datetime.timezone.utc), content=[FunctionExecutionResult(content='The weather in Delhi is 23 °C and Sunny.', name='get_weather', call_id='call_xlEPodf9Y5X9MkQjDrDqu9ct', is_error=False)], type='ToolCallExecutionEvent'), ToolCallSummaryMessage(id='b4d0d097-4b00-4fcf-b9de-5e188c51207f', source='weather_assistant', models_usage=None, metadata={}, created_at=datetime.datetime(2025, 7, 27, 4, 53, 17, 324249, tzinfo=datetime.timezone.utc), content='The weather in Delhi is 23 °C and Sunny.', type='ToolCallSummaryMessage', tool_calls=[FunctionCall(id='call_xlEPodf9Y5X9MkQjDrDqu9ct', arguments='{\"city\":\"Delhi\",\"units\":\"metric\"}', name='get_weather')], results=[FunctionExecutionResult(content='The weather in Delhi is 23 °C and Sunny.', name='get_weather', call_id='call_xlEPodf9Y5X9MkQjDrDqu9ct', is_error=False)])], stop_reason=None)"
      ]
     },
     "execution_count": 9,
     "metadata": {},
     "output_type": "execute_result"
    }
   ],
   "source": [
    "stream = assistant_agent.run_stream(task='What is the weather in Delhi ?')\n",
    "await Console(stream)"
   ]
  },
  {
   "cell_type": "code",
   "execution_count": 10,
   "id": "4b731646",
   "metadata": {},
   "outputs": [
    {
     "name": "stdout",
     "output_type": "stream",
     "text": [
      "---------- TextMessage (user) ----------\n",
      "Can you give me a good high protien diet ?\n",
      "---------- MemoryQueryEvent (weather_assistant) ----------\n",
      "[MemoryContent(content='The weather unit should be degree celsius ( metric)', mime_type=<MemoryMimeType.TEXT: 'text/plain'>, metadata=None)]\n",
      "---------- TextMessage (weather_assistant) ----------\n",
      "Sure! Here's a high-protein diet plan to help you meet your nutritional needs:\n",
      "\n",
      "**Breakfast:**\n",
      "- Scrambled eggs with spinach and tomatoes: 3 whole eggs + egg whites for extra protein\n",
      "- A slice of whole-grain toast\n",
      "- A serving of Greek yogurt (add berries for flavor and extra nutrients)\n",
      "\n",
      "**Morning Snack:**\n",
      "- A handful of almonds or walnuts\n",
      "- Protein smoothie with whey protein, almond milk, and a banana\n",
      "\n",
      "**Lunch:**\n",
      "- Grilled chicken breast or tofu stir-fry with mixed vegetables (broccoli, bell peppers, carrots)\n",
      "- Quinoa or brown rice on the side\n",
      "\n",
      "**Afternoon Snack:**\n",
      "- Cottage cheese with pineapple chunks\n",
      "- A boiled egg\n",
      "\n",
      "**Dinner:**\n",
      "- Baked salmon or lentils with a lemon dill sauce\n",
      "- Steamed asparagus or green beans\n",
      "- A side salad with olive oil and vinegar dressing\n",
      "\n",
      "**Evening Snack:**\n",
      "- A protein bar or a small bowl of edamame\n",
      "\n",
      "Make sure to balance your meals with healthy fats and fiber-rich carbohydrates for a well-rounded diet. Drink plenty of water throughout the day to stay hydrated. Adjust portion sizes according to your specific calorie and protein needs.\n"
     ]
    },
    {
     "data": {
      "text/plain": [
       "TaskResult(messages=[TextMessage(id='14d5ce0c-2d4c-410b-9415-1770b6cba948', source='user', models_usage=None, metadata={}, created_at=datetime.datetime(2025, 7, 27, 4, 53, 50, 139661, tzinfo=datetime.timezone.utc), content='Can you give me a good high protien diet ?', type='TextMessage'), MemoryQueryEvent(id='e3be4d2b-13fc-4cd7-816a-f68358992d40', source='weather_assistant', models_usage=None, metadata={}, created_at=datetime.datetime(2025, 7, 27, 4, 53, 50, 144070, tzinfo=datetime.timezone.utc), content=[MemoryContent(content='The weather unit should be degree celsius ( metric)', mime_type=<MemoryMimeType.TEXT: 'text/plain'>, metadata=None)], type='MemoryQueryEvent'), TextMessage(id='3add3244-0a05-4a60-8c00-5161dbb1b91a', source='weather_assistant', models_usage=RequestUsage(prompt_tokens=197, completion_tokens=244), metadata={}, created_at=datetime.datetime(2025, 7, 27, 4, 53, 54, 85046, tzinfo=datetime.timezone.utc), content=\"Sure! Here's a high-protein diet plan to help you meet your nutritional needs:\\n\\n**Breakfast:**\\n- Scrambled eggs with spinach and tomatoes: 3 whole eggs + egg whites for extra protein\\n- A slice of whole-grain toast\\n- A serving of Greek yogurt (add berries for flavor and extra nutrients)\\n\\n**Morning Snack:**\\n- A handful of almonds or walnuts\\n- Protein smoothie with whey protein, almond milk, and a banana\\n\\n**Lunch:**\\n- Grilled chicken breast or tofu stir-fry with mixed vegetables (broccoli, bell peppers, carrots)\\n- Quinoa or brown rice on the side\\n\\n**Afternoon Snack:**\\n- Cottage cheese with pineapple chunks\\n- A boiled egg\\n\\n**Dinner:**\\n- Baked salmon or lentils with a lemon dill sauce\\n- Steamed asparagus or green beans\\n- A side salad with olive oil and vinegar dressing\\n\\n**Evening Snack:**\\n- A protein bar or a small bowl of edamame\\n\\nMake sure to balance your meals with healthy fats and fiber-rich carbohydrates for a well-rounded diet. Drink plenty of water throughout the day to stay hydrated. Adjust portion sizes according to your specific calorie and protein needs.\", type='TextMessage')], stop_reason=None)"
      ]
     },
     "execution_count": 10,
     "metadata": {},
     "output_type": "execute_result"
    }
   ],
   "source": [
    "stream = assistant_agent.run_stream(task='Can you give me a good high protien diet ?')\n",
    "await Console(stream)"
   ]
  },
  {
   "cell_type": "code",
   "execution_count": 14,
   "id": "96c60f60",
   "metadata": {},
   "outputs": [
    {
     "name": "stdout",
     "output_type": "stream",
     "text": [
      "---------- TextMessage (user) ----------\n",
      "Can you give me a good high protien diet ?\n",
      "---------- MemoryQueryEvent (weather_assistant) ----------\n",
      "[MemoryContent(content='The weather unit should be degree celsius ( metric)', mime_type=<MemoryMimeType.TEXT: 'text/plain'>, metadata=None), MemoryContent(content='The weather unit should be degree celsius ( metric)', mime_type=<MemoryMimeType.TEXT: 'text/plain'>, metadata=None), MemoryContent(content='The User is Vegetarian', mime_type=<MemoryMimeType.TEXT: 'text/plain'>, metadata=None)]\n",
      "---------- TextMessage (weather_assistant) ----------\n",
      "Certainly! Here's a sample high-protein vegetarian diet plan for a day:\n",
      "\n",
      "**Breakfast:**\n",
      "- Scrambled tofu with spinach and tomatoes\n",
      "- Whole grain toast\n",
      "- A glass of soy milk or almond milk\n",
      "\n",
      "**Mid-Morning Snack:**\n",
      "- Greek yogurt with mixed nuts and seeds\n",
      "- A small piece of fruit, like an apple or banana\n",
      "\n",
      "**Lunch:**\n",
      "- Quinoa salad with black beans, chickpeas, cucumbers, bell peppers, and a lemon-tahini dressing\n",
      "- A serving of cottage cheese\n",
      "\n",
      "**Afternoon Snack:**\n",
      "- Hummus with carrot and celery sticks\n",
      "- A handful of roasted edamame\n",
      "\n",
      "**Dinner:**\n",
      "- Grilled tempeh or tofu with steamed broccoli and sweet potato\n",
      "- A side salad with mixed greens, cherry tomatoes, avocado, and a balsamic vinaigrette\n",
      "\n",
      "**Evening Snack:**\n",
      "- A protein smoothie with spinach, banana, almond milk, and a scoop of plant-based protein powder\n",
      "\n",
      "Remember to drink plenty of water throughout the day. Customize the portions and ingredients to fit your dietary needs and preferences. If you have specific nutritional goals or health conditions, it's a good idea to consult with a dietitian or nutritionist.\n"
     ]
    },
    {
     "data": {
      "text/plain": [
       "TaskResult(messages=[TextMessage(id='cefdcc90-1a1e-4d32-b9a7-bc7ddab71635', source='user', models_usage=None, metadata={}, created_at=datetime.datetime(2025, 7, 27, 4, 54, 29, 904903, tzinfo=datetime.timezone.utc), content='Can you give me a good high protien diet ?', type='TextMessage'), MemoryQueryEvent(id='53fcc7b7-7f91-4e9e-a0f1-81c94bef01bc', source='weather_assistant', models_usage=None, metadata={}, created_at=datetime.datetime(2025, 7, 27, 4, 54, 29, 910196, tzinfo=datetime.timezone.utc), content=[MemoryContent(content='The weather unit should be degree celsius ( metric)', mime_type=<MemoryMimeType.TEXT: 'text/plain'>, metadata=None), MemoryContent(content='The weather unit should be degree celsius ( metric)', mime_type=<MemoryMimeType.TEXT: 'text/plain'>, metadata=None), MemoryContent(content='The User is Vegetarian', mime_type=<MemoryMimeType.TEXT: 'text/plain'>, metadata=None)], type='MemoryQueryEvent'), TextMessage(id='3daa646a-b336-441b-95ff-034a17cc18a0', source='weather_assistant', models_usage=RequestUsage(prompt_tokens=141, completion_tokens=248), metadata={}, created_at=datetime.datetime(2025, 7, 27, 4, 54, 33, 465797, tzinfo=datetime.timezone.utc), content=\"Certainly! Here's a sample high-protein vegetarian diet plan for a day:\\n\\n**Breakfast:**\\n- Scrambled tofu with spinach and tomatoes\\n- Whole grain toast\\n- A glass of soy milk or almond milk\\n\\n**Mid-Morning Snack:**\\n- Greek yogurt with mixed nuts and seeds\\n- A small piece of fruit, like an apple or banana\\n\\n**Lunch:**\\n- Quinoa salad with black beans, chickpeas, cucumbers, bell peppers, and a lemon-tahini dressing\\n- A serving of cottage cheese\\n\\n**Afternoon Snack:**\\n- Hummus with carrot and celery sticks\\n- A handful of roasted edamame\\n\\n**Dinner:**\\n- Grilled tempeh or tofu with steamed broccoli and sweet potato\\n- A side salad with mixed greens, cherry tomatoes, avocado, and a balsamic vinaigrette\\n\\n**Evening Snack:**\\n- A protein smoothie with spinach, banana, almond milk, and a scoop of plant-based protein powder\\n\\nRemember to drink plenty of water throughout the day. Customize the portions and ingredients to fit your dietary needs and preferences. If you have specific nutritional goals or health conditions, it's a good idea to consult with a dietitian or nutritionist.\", type='TextMessage')], stop_reason=None)"
      ]
     },
     "execution_count": 14,
     "metadata": {},
     "output_type": "execute_result"
    }
   ],
   "source": [
    "stream = assistant_agent.run_stream(task='Can you give me a good high protien diet ?')\n",
    "await Console(stream)"
   ]
  },
  {
   "cell_type": "code",
   "execution_count": null,
   "id": "4e404829",
   "metadata": {},
   "outputs": [],
   "source": []
  },
  {
   "cell_type": "markdown",
   "id": "c4581a84",
   "metadata": {},
   "source": [
    "    RAG (Retrieval-Augmented Generation) Concept:\n",
    "    ==========================================\n",
    "    \n",
    "    1. RETRIEVAL: When a user asks a question, the system searches through \n",
    "       a knowledge base (vector store) to find relevant information.\n",
    "    \n",
    "    2. AUGMENTATION: The retrieved information is added to the user's question \n",
    "       as context, providing the AI model with relevant background knowledge.\n",
    "    \n",
    "    3. GENERATION: The AI model generates a response based on both the original \n",
    "       question and the retrieved context, resulting in more accurate and \n",
    "       informative answers.\n",
    "    \n",
    "    Benefits:\n",
    "    - Reduces hallucinations\n",
    "    - Provides up-to-date information\n",
    "    - Enables domain-specific knowledge\n",
    "    - Improves response accuracy"
   ]
  },
  {
   "cell_type": "markdown",
   "id": "6219ac97",
   "metadata": {},
   "source": [
    " Vector Embeddings Explained:\n",
    "    ===========================\n",
    "    \n",
    "    1. TEXT TO NUMBERS: Embeddings convert text into numerical vectors \n",
    "       (arrays of numbers) that represent semantic meaning.\n",
    "    \n",
    "    2. SEMANTIC SIMILARITY: Similar texts have similar vector representations.\n",
    "       This allows mathematical comparison of meaning.\n",
    "    \n",
    "    3. HIGH DIMENSIONS: Embeddings typically have 384, 768, or 1536 dimensions,\n",
    "       capturing complex relationships between concepts.\n",
    "    \n",
    "    4. DISTANCE METRICS: \n",
    "       - Cosine similarity: Measures angle between vectors\n",
    "       - Euclidean distance: Measures straight-line distance\n",
    "       - Dot product: Measures vector alignment\n",
    "    \n",
    "    Example:\n",
    "    \"dog\" and \"puppy\" → very similar vectors (high similarity score)\n",
    "    \"dog\" and \"computer\" → very different vectors (low similarity score)"
   ]
  },
  {
   "cell_type": "markdown",
   "id": "b9edda91",
   "metadata": {},
   "source": [
    "   \n",
    "    1. VECTOR STORAGE: Efficiently stores and indexes high-dimensional vectors\n",
    "    \n",
    "    2. SIMILARITY SEARCH: Fast retrieval of similar vectors using various metrics\n",
    "    \n",
    "    3. METADATA FILTERING: Attach metadata to vectors for advanced filtering\n",
    "    \n",
    "    4. MULTIPLE CLIENTS:\n",
    "       - Persistent: Local file-based storage\n",
    "       - HTTP: Remote server deployment\n",
    "    \n",
    "    5. EMBEDDING FUNCTIONS:\n",
    "       - Default: all-MiniLM-L6-v2 (lightweight, fast)\n",
    "       - OpenAI: High-quality commercial embeddings\n",
    "       - SentenceTransformers: Various specialized models\n",
    "       - Custom: Your own embedding functions\n",
    "    \n",
    "    6. COLLECTIONS: Organize vectors into separate collections/namespaces\n",
    "    \n",
    "    7. PERSISTENCE: Data survives application restarts"
   ]
  },
  {
   "cell_type": "code",
   "execution_count": null,
   "id": "23562d17",
   "metadata": {},
   "outputs": [],
   "source": []
  },
  {
   "cell_type": "markdown",
   "id": "79a1b81c",
   "metadata": {},
   "source": []
  }
 ],
 "metadata": {
  "kernelspec": {
   "display_name": ".venv (3.12.9)",
   "language": "python",
   "name": "python3"
  },
  "language_info": {
   "codemirror_mode": {
    "name": "ipython",
    "version": 3
   },
   "file_extension": ".py",
   "mimetype": "text/x-python",
   "name": "python",
   "nbconvert_exporter": "python",
   "pygments_lexer": "ipython3",
   "version": "3.12.9"
  }
 },
 "nbformat": 4,
 "nbformat_minor": 5
}

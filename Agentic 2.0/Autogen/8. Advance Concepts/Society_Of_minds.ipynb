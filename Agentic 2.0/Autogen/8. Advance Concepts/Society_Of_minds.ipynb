{
 "cells": [
  {
   "cell_type": "markdown",
   "id": "febf802e",
   "metadata": {},
   "source": [
    "# Society of Mind"
   ]
  },
  {
   "cell_type": "code",
   "execution_count": null,
   "id": "75574191",
   "metadata": {},
   "outputs": [],
   "source": [
    "print(\"\\n🏗️  Society of Mind Architecture:\")\n",
    "print(\"\"\"\n",
    "    ┌─────────────────────────────────────-┐\n",
    "    │        Society of Mind Agent         │\n",
    "    │  ┌─────────────────────────────────┐ │\n",
    "    │  │         Inner Team              │ │\n",
    "    │  │  ┌─────────┐  ┌─────────────┐   │ │\n",
    "    │  │  │ Agent A │  │   Agent B   │   │ │\n",
    "    │  │  │(Writer) │  │  (Editor)   │   │ │\n",
    "    │  │  └─────────┘  └─────────────┘   │ │\n",
    "    │  │         │            │          │ │\n",
    "    │  │         └────┬───────┘          │ │\n",
    "    │  │              │                  │ │\n",
    "    │  │         Discussion              │ │\n",
    "    │  └─────────────────────────────────┘ │\n",
    "    │                 │                    │\n",
    "    │            Synthesis                 │\n",
    "    │                 │                    │\n",
    "    │           Final Response             │\n",
    "    └─────────────────────────────────────-┘\n",
    "    \"\"\")"
   ]
  },
  {
   "cell_type": "code",
   "execution_count": null,
   "id": "f31a4584",
   "metadata": {},
   "outputs": [],
   "source": [
    "api_key=None"
   ]
  },
  {
   "cell_type": "code",
   "execution_count": null,
   "id": "da0ba8c8",
   "metadata": {},
   "outputs": [
    {
     "name": "stdout",
     "output_type": "stream",
     "text": [
      "---------- TextMessage (user) ----------\n",
      "Write a short story with a surprising ending under 50 words.\n",
      "Write a short story with a surprising ending under 50 words.\n",
      "---------- TextMessage (assistant1) ----------\n",
      "Lila cherished a dusty lamp she found, dreaming of magic. One evening, she rubbed it, wishing for adventure. To her surprise, a butterfly emerged, transforming her small room into a vibrant jungle. Heart pounding, she realized the greatest magic: the power of imagination.\n",
      "---------- TextMessage (assistant2) ----------\n",
      "Consider clarifying how the butterfly leads to the jungle transformation, as the connection may be vague to readers. The reveal of imagination's power is effective, but visually depicting the change can enhance surprise. Otherwise, the twist is delightful.\n",
      "---------- TextMessage (assistant1) ----------\n",
      "Lila cherished a dusty lamp, dreaming of magic. One evening, she rubbed it, wishing for adventure. To her surprise, a butterfly emerged, fluttering around, transforming her small room into a vibrant jungle. Heart pounding, she realized the greatest magic was the power of imagination.\n",
      "---------- TextMessage (assistant2) ----------\n",
      "APPROVE\n",
      "---------- TextMessage (society_of_mind) ----------\n",
      "Lila cherished a dusty lamp she found, dreaming of magic. One evening, she rubbed it, wishing for adventure. To her surprise, a butterfly emerged, transforming her small room into a vibrant jungle. Heart pounding, she realized the greatest magic: the power of imagination.\n",
      "---------- TextMessage (assistant3) ----------\n",
      "Lila apreciaba una lámpara polvorienta que encontró, soñando con magia. Una noche, la frotó, deseando aventura. Para su sorpresa, emergió una mariposa, transformando su pequeño cuarto en una vibrante jungla. Con el corazón acelerado, comprendió la mayor magia: el poder de la imaginación.\n"
     ]
    }
   ],
   "source": [
    "import asyncio\n",
    "from autogen_agentchat.ui import Console\n",
    "from autogen_agentchat.agents import AssistantAgent, SocietyOfMindAgent\n",
    "from autogen_ext.models.openai import OpenAIChatCompletionClient\n",
    "from autogen_agentchat.teams import RoundRobinGroupChat\n",
    "from autogen_agentchat.conditions import TextMentionTermination\n",
    "\n",
    "\n",
    "async def main() -> None:\n",
    "    model_client = OpenAIChatCompletionClient(model=\"gpt-4o\",api_key=api_key)\n",
    "\n",
    "    agent1 = AssistantAgent(\"assistant1\", model_client=model_client, system_message=\"You are a writer, write well under 50 words.\")\n",
    "    agent2 = AssistantAgent(\n",
    "        \"assistant2\",\n",
    "        model_client=model_client,\n",
    "        system_message=\"You are an editor, provide critical feedback under 50 words. Respond with 'APPROVE' if the text addresses all feedbacks.\",\n",
    "    )\n",
    "    inner_termination = TextMentionTermination(\"APPROVE\")\n",
    "    inner_team = RoundRobinGroupChat([agent1, agent2], termination_condition=inner_termination)\n",
    "\n",
    "\n",
    "    society_of_mind_agent = SocietyOfMindAgent(\"society_of_mind\", team=inner_team, model_client=model_client,response_prompt='Output a standalone response to the original request under 50 words, without mentioning any of the intermediate discussion.')\n",
    "\n",
    "    agent4 = society_of_mind_agent = SocietyOfMindAgent(\"society_of_mind\", team=inner_team, model_client=model_client,response_prompt='Output a standalone response to the original request under 50 words, without mentioning any of the intermediate discussion.')\n",
    "\n",
    "\n",
    "\n",
    "\n",
    "\n",
    "    agent3 = AssistantAgent(\n",
    "        \"assistant3\", model_client=model_client, system_message=\"Translate the text to Spanish under 50 words.\"\n",
    "    )\n",
    "    team = RoundRobinGroupChat([society_of_mind_agent, agent3], max_turns=2)\n",
    "\n",
    "    stream = team.run_stream(task=\"Write a short story with a surprising ending under 50 words.\")\n",
    "    await Console(stream)\n",
    "\n",
    "\n",
    "await (main())\n"
   ]
  },
  {
   "cell_type": "code",
   "execution_count": null,
   "id": "556064c2",
   "metadata": {},
   "outputs": [],
   "source": []
  }
 ],
 "metadata": {
  "kernelspec": {
   "display_name": ".venv (3.12.9)",
   "language": "python",
   "name": "python3"
  },
  "language_info": {
   "codemirror_mode": {
    "name": "ipython",
    "version": 3
   },
   "file_extension": ".py",
   "mimetype": "text/x-python",
   "name": "python",
   "nbconvert_exporter": "python",
   "pygments_lexer": "ipython3",
   "version": "3.12.9"
  }
 },
 "nbformat": 4,
 "nbformat_minor": 5
}

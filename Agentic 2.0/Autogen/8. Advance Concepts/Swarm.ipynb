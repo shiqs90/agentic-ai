{
 "cells": [
  {
   "cell_type": "code",
   "execution_count": 1,
   "id": "c7440505",
   "metadata": {},
   "outputs": [],
   "source": [
    "from typing import Any, Dict, List\n",
    "\n",
    "from autogen_agentchat.agents import AssistantAgent\n",
    "from autogen_agentchat.conditions import HandoffTermination, TextMentionTermination\n",
    "from autogen_agentchat.messages import HandoffMessage\n",
    "from autogen_agentchat.teams import Swarm\n",
    "from autogen_agentchat.ui import Console\n",
    "from autogen_ext.models.openai import OpenAIChatCompletionClient\n"
   ]
  },
  {
   "cell_type": "code",
   "execution_count": 2,
   "id": "2817ed93",
   "metadata": {},
   "outputs": [],
   "source": [
    "def refund_flight (flight_PNR:str) ->str:\n",
    "    return f\"Refunded Flight with PNR {flight_PNR}\""
   ]
  },
  {
   "cell_type": "code",
   "execution_count": null,
   "id": "a9df9245",
   "metadata": {},
   "outputs": [],
   "source": [
    "api_key=None\n",
    "model_client = OpenAIChatCompletionClient(model='gpt-4o',api_key=api_key,parallel_tool_calls=False)"
   ]
  },
  {
   "cell_type": "code",
   "execution_count": 14,
   "id": "446a1edf",
   "metadata": {},
   "outputs": [],
   "source": [
    "travel_agent = AssistantAgent(\n",
    "    \"travel_agent\",\n",
    "    model_client=model_client,\n",
    "    handoffs=[\"flights_refunder\", \"user\"],\n",
    "    system_message=\"\"\"You are a travel agent.\n",
    "    The flights_refunder is in charge of refunding flights.\n",
    "    If you need information from the user, you must first send your message, then you can handoff to the user.\n",
    "    Use TERMINATE when the travel planning is complete.\"\"\",\n",
    ")"
   ]
  },
  {
   "cell_type": "code",
   "execution_count": null,
   "id": "a4527356",
   "metadata": {},
   "outputs": [],
   "source": [
    "flights_refunder = AssistantAgent(\n",
    "    \"flights_refunder\",\n",
    "    model_client=model_client,\n",
    "    handoffs=[\"travel_agent\", \"user\"],\n",
    "    tools=[refund_flight],\n",
    "    system_message=\"\"\"You are an agent specialized in refunding flights.\n",
    "    You only need flight PNR numbers to refund a flight.\n",
    "    You have the ability to refund a flight using the refund_flight tool.\n",
    "    If you need information from the user, you must first send your message, then you can handoff to the user.\n",
    "    When the transaction is complete, handoff to the travel agent to finalize.\"\"\",\n",
    ")"
   ]
  },
  {
   "cell_type": "code",
   "execution_count": null,
   "id": "84fc5bd3",
   "metadata": {},
   "outputs": [],
   "source": [
    "termination = HandoffTermination(target=\"user\") | TextMentionTermination(\"TERMINATE\")\n",
    "team = Swarm([travel_agent, flights_refunder], termination_condition=termination)\n"
   ]
  },
  {
   "cell_type": "code",
   "execution_count": null,
   "id": "5743baa5",
   "metadata": {},
   "outputs": [],
   "source": [
    "await team.reset()"
   ]
  },
  {
   "cell_type": "code",
   "execution_count": null,
   "id": "265f26d6",
   "metadata": {},
   "outputs": [],
   "source": [
    "# if (isinstance(message, HandoffMessage))"
   ]
  },
  {
   "cell_type": "code",
   "execution_count": 22,
   "id": "19365209",
   "metadata": {},
   "outputs": [
    {
     "name": "stdout",
     "output_type": "stream",
     "text": [
      "---------- TextMessage (user) ----------\n",
      " I want to refund my flight\n"
     ]
    },
    {
     "name": "stdout",
     "output_type": "stream",
     "text": [
      "---------- ToolCallRequestEvent (travel_agent) ----------\n",
      "[FunctionCall(id='call_HAIEWNBnUBHvnlYeSwpEFvWK', arguments='{}', name='transfer_to_flights_refunder')]\n",
      "---------- ToolCallExecutionEvent (travel_agent) ----------\n",
      "[FunctionExecutionResult(content='Transferred to flights_refunder, adopting the role of flights_refunder immediately.', name='transfer_to_flights_refunder', call_id='call_HAIEWNBnUBHvnlYeSwpEFvWK', is_error=False)]\n",
      "---------- HandoffMessage (travel_agent) ----------\n",
      "Transferred to flights_refunder, adopting the role of flights_refunder immediately.\n",
      "[FunctionCall(id='call_HAIEWNBnUBHvnlYeSwpEFvWK', arguments='{}', name='transfer_to_flights_refunder')]\n",
      "---------- ToolCallExecutionEvent (travel_agent) ----------\n",
      "[FunctionExecutionResult(content='Transferred to flights_refunder, adopting the role of flights_refunder immediately.', name='transfer_to_flights_refunder', call_id='call_HAIEWNBnUBHvnlYeSwpEFvWK', is_error=False)]\n",
      "---------- HandoffMessage (travel_agent) ----------\n",
      "Transferred to flights_refunder, adopting the role of flights_refunder immediately.\n",
      "---------- TextMessage (flights_refunder) ----------\n",
      "To begin the refund process, I'll need the flight PNR number. Could you please provide that information?\n",
      "---------- ToolCallRequestEvent (flights_refunder) ----------\n",
      "[FunctionCall(id='call_zDyQh3EmED32eRPVArA2W97k', arguments='{}', name='transfer_to_user')]\n",
      "---------- ToolCallExecutionEvent (flights_refunder) ----------\n",
      "[FunctionExecutionResult(content='Transferred to user, adopting the role of user immediately.', name='transfer_to_user', call_id='call_zDyQh3EmED32eRPVArA2W97k', is_error=False)]\n",
      "---------- HandoffMessage (flights_refunder) ----------\n",
      "Transferred to user, adopting the role of user immediately.\n",
      "---------- HandoffMessage (user) ----------\n",
      "PNR12345\n",
      "---------- ToolCallRequestEvent (flights_refunder) ----------\n",
      "[FunctionCall(id='call_Ae5DuWMLwUELj4J0499HPF4U', arguments='{\"flight_PNR\":\"PNR12345\"}', name='refund_flight')]\n",
      "---------- ToolCallExecutionEvent (flights_refunder) ----------\n",
      "[FunctionExecutionResult(content='Refunded Flight with PNR PNR12345', name='refund_flight', call_id='call_Ae5DuWMLwUELj4J0499HPF4U', is_error=False)]\n",
      "---------- ToolCallSummaryMessage (flights_refunder) ----------\n",
      "Refunded Flight with PNR PNR12345\n",
      "---------- ToolCallRequestEvent (flights_refunder) ----------\n",
      "[FunctionCall(id='call_z3DPDxxyGsN8azhUPN3yfBOa', arguments='{}', name='transfer_to_travel_agent')]\n",
      "---------- ToolCallExecutionEvent (flights_refunder) ----------\n",
      "[FunctionExecutionResult(content='Transferred to travel_agent, adopting the role of travel_agent immediately.', name='transfer_to_travel_agent', call_id='call_z3DPDxxyGsN8azhUPN3yfBOa', is_error=False)]\n",
      "---------- HandoffMessage (flights_refunder) ----------\n",
      "Transferred to travel_agent, adopting the role of travel_agent immediately.\n",
      "---------- TextMessage (travel_agent) ----------\n",
      "Your flight with PNR \"PNR12345\" has been successfully refunded. If you need any further assistance or have other travel-related inquiries, feel free to let me know. Safe travels! TERMINATE\n"
     ]
    }
   ],
   "source": [
    "task = ' I want to refund my flight'\n",
    "\n",
    "async def run_team_stream() -> None:\n",
    "\n",
    "    task_result = await Console(team.run_stream(task = task))\n",
    "\n",
    "    last_message = task_result.messages[-1]\n",
    "\n",
    "\n",
    "    while ( isinstance(last_message,HandoffMessage) and last_message.target == 'user'):\n",
    "\n",
    "        user_ka_message = input(\"User : \")\n",
    "\n",
    "        task_result = await Console(team.run_stream(task = HandoffMessage(source='user',target=last_message.source,content=user_ka_message)))\n",
    "\n",
    "        last_message = task_result.messages[-1]\n",
    "\n",
    "await run_team_stream()"
   ]
  },
  {
   "cell_type": "code",
   "execution_count": 23,
   "id": "7a959ca0",
   "metadata": {},
   "outputs": [],
   "source": [
    "flights_refunder = AssistantAgent(\n",
    "    \"flights_refunder\",\n",
    "    model_client=model_client,\n",
    "    handoffs=[\"travel_agent\"],\n",
    "    tools=[refund_flight],\n",
    "    system_message=\"\"\"You are an agent specialized in refunding flights.\n",
    "    You only need flight PNR numbers to refund a flight.\n",
    "    You have the ability to refund a flight using the refund_flight tool.\n",
    "    If you need information from the user, you must first send your message, then you can handoff to the user.\n",
    "    When the transaction is complete, handoff to the travel agent to finalize.\"\"\",\n",
    ")"
   ]
  },
  {
   "cell_type": "code",
   "execution_count": 24,
   "id": "aff16841",
   "metadata": {},
   "outputs": [],
   "source": [
    "await team.reset()"
   ]
  },
  {
   "cell_type": "code",
   "execution_count": null,
   "id": "898cface",
   "metadata": {},
   "outputs": [],
   "source": [
    "termination = HandoffTermination(target=\"user\") | TextMentionTermination(\"TERMINATE\") \n",
    "team = Swarm([flights_refunder,travel_agent ], termination_condition=termination,max_turns=20)\n"
   ]
  },
  {
   "cell_type": "code",
   "execution_count": null,
   "id": "b338d555",
   "metadata": {},
   "outputs": [
    {
     "name": "stdout",
     "output_type": "stream",
     "text": [
      "---------- TextMessage (user) ----------\n",
      " I want to refund my flight\n",
      " I want to refund my flight\n",
      "---------- TextMessage (flights_refunder) ----------\n",
      "To process a refund for your flight, I will need the flight PNR (Passenger Name Record) number. Could you please provide that information?\n",
      "---------- TextMessage (flights_refunder) ----------\n",
      "To process a refund for your flight, I will need the flight PNR (Passenger Name Record) number. Could you please provide that information?\n",
      "---------- TextMessage (flights_refunder) ----------\n",
      "To proceed with refunding your flight, I'll need your flight PNR (Passenger Name Record) number. Could you please provide that to me?\n",
      "---------- TextMessage (flights_refunder) ----------\n",
      "To proceed with refunding your flight, I'll need your flight PNR (Passenger Name Record) number. Could you please provide that information?\n",
      "---------- TextMessage (flights_refunder) ----------\n",
      "To process a refund for your flight, I will need the flight PNR (Passenger Name Record) number. Could you please provide that information?\n",
      "---------- TextMessage (flights_refunder) ----------\n",
      "To process a refund for your flight, I will need the flight PNR (Passenger Name Record) number. Could you please provide that information?\n",
      "---------- TextMessage (flights_refunder) ----------\n",
      "To proceed with refunding your flight, I'll need your flight PNR (Passenger Name Record) number. Could you please provide that to me?\n",
      "---------- TextMessage (flights_refunder) ----------\n",
      "To proceed with refunding your flight, I'll need your flight PNR (Passenger Name Record) number. Could you please provide that information?\n",
      "---------- TextMessage (flights_refunder) ----------\n",
      "Could you please provide your flight PNR (Passenger Name Record) number so I can proceed with the refund?\n",
      "---------- TextMessage (flights_refunder) ----------\n",
      "Could you please provide your flight PNR (Passenger Name Record) number so I can proceed with the refund?\n",
      "---------- TextMessage (flights_refunder) ----------\n",
      "Could you please provide your flight PNR (Passenger Name Record) number so I can proceed with the refund?\n",
      "---------- TextMessage (flights_refunder) ----------\n",
      "Could you please provide your flight PNR (Passenger Name Record) number so I can proceed with the refund?\n",
      "---------- TextMessage (flights_refunder) ----------\n",
      "Could you please provide your flight PNR (Passenger Name Record) number so I can proceed with the refund?\n",
      "---------- TextMessage (flights_refunder) ----------\n",
      "Could you please provide your flight PNR (Passenger Name Record) number so I can proceed with the refund?\n",
      "---------- TextMessage (flights_refunder) ----------\n",
      "Could you please provide your flight PNR (Passenger Name Record) number so I can proceed with the refund?\n",
      "---------- TextMessage (flights_refunder) ----------\n",
      "Could you please provide your flight PNR (Passenger Name Record) number so I can proceed with the refund?\n",
      "---------- TextMessage (flights_refunder) ----------\n",
      "Could you please provide your flight PNR (Passenger Name Record) number so I can proceed with the refund?\n",
      "---------- TextMessage (flights_refunder) ----------\n",
      "Could you please provide your flight PNR (Passenger Name Record) number so I can proceed with the refund?\n",
      "---------- TextMessage (flights_refunder) ----------\n",
      "Could you please provide your flight PNR (Passenger Name Record) number so I can proceed with the refund?\n",
      "---------- TextMessage (flights_refunder) ----------\n",
      "Could you please provide your flight PNR (Passenger Name Record) number so I can proceed with the refund?\n",
      "---------- TextMessage (flights_refunder) ----------\n",
      "Could you please provide your flight PNR (Passenger Name Record) number so I can proceed with the refund?\n",
      "---------- TextMessage (flights_refunder) ----------\n",
      "Could you please provide your flight PNR (Passenger Name Record) number so I can proceed with the refund?\n",
      "---------- TextMessage (flights_refunder) ----------\n",
      "Could you please provide your flight PNR (Passenger Name Record) number so I can proceed with the refund?\n",
      "---------- TextMessage (flights_refunder) ----------\n",
      "Could you please provide your flight PNR (Passenger Name Record) number so I can proceed with the refund?\n",
      "---------- TextMessage (flights_refunder) ----------\n",
      "Could you please provide your flight PNR (Passenger Name Record) number so I can proceed with the refund?\n",
      "---------- TextMessage (flights_refunder) ----------\n",
      "Could you please provide your flight PNR (Passenger Name Record) number so I can proceed with the refund?\n",
      "---------- TextMessage (flights_refunder) ----------\n",
      "Could you please provide your flight PNR (Passenger Name Record) number so I can proceed with the refund?\n",
      "---------- TextMessage (flights_refunder) ----------\n",
      "Could you please provide your flight PNR (Passenger Name Record) number so I can proceed with the refund?\n",
      "---------- TextMessage (flights_refunder) ----------\n",
      "Could you please provide your flight PNR (Passenger Name Record) number so I can proceed with the refund?\n",
      "---------- TextMessage (flights_refunder) ----------\n",
      "Could you please provide your flight PNR (Passenger Name Record) number so I can proceed with the refund?\n",
      "---------- TextMessage (flights_refunder) ----------\n",
      "Could you please provide your flight PNR (Passenger Name Record) number so I can proceed with the refund?\n",
      "---------- TextMessage (flights_refunder) ----------\n",
      "Could you please provide your flight PNR (Passenger Name Record) number so I can proceed with the refund?\n",
      "---------- TextMessage (flights_refunder) ----------\n",
      "Could you please provide your flight PNR (Passenger Name Record) number so I can proceed with the refund?\n"
     ]
    }
   ],
   "source": [
    "task = ' I want to refund my flight'\n",
    "\n",
    "async def run_team_stream() -> None:\n",
    "\n",
    "    task_result = await Console(team.run_stream(task = task))\n",
    "\n",
    "    last_message = task_result.messages[-1]\n",
    "\n",
    "\n",
    "    while ( isinstance(last_message,HandoffMessage) and last_message.target == 'user'):\n",
    "\n",
    "        user_ka_message = input(\"User : \")\n",
    "\n",
    "        task_result = await Console(team.run_stream(task = HandoffMessage(source='user',target=last_message.source,content=user_ka_message)))\n",
    "\n",
    "        last_message = task_result.messages[-1]\n",
    "\n",
    "await run_team_stream()"
   ]
  },
  {
   "cell_type": "code",
   "execution_count": null,
   "id": "32cffe49",
   "metadata": {},
   "outputs": [],
   "source": []
  }
 ],
 "metadata": {
  "kernelspec": {
   "display_name": ".venv (3.12.9)",
   "language": "python",
   "name": "python3"
  },
  "language_info": {
   "codemirror_mode": {
    "name": "ipython",
    "version": 3
   },
   "file_extension": ".py",
   "mimetype": "text/x-python",
   "name": "python",
   "nbconvert_exporter": "python",
   "pygments_lexer": "ipython3",
   "version": "3.12.9"
  }
 },
 "nbformat": 4,
 "nbformat_minor": 5
}
